{
 "cells": [
  {
   "cell_type": "code",
   "execution_count": 1,
   "id": "a9b8940c",
   "metadata": {},
   "outputs": [
    {
     "name": "stdout",
     "output_type": "stream",
     "text": [
      "Prédiction : [0]\n"
     ]
    }
   ],
   "source": [
    "import requests\n",
    "\n",
    "url = \"http://127.0.0.1:5001/predict\"\n",
    "\n",
    "# Exemple : une ligne du dataset `digits` (64 valeurs)\n",
    "data = {\n",
    "    \"inputs\": [[0.0, 0.0, 5.0, 13.0, 9.0, 1.0, 0.0, 0.0,\n",
    "                0.0, 0.0, 13.0, 15.0, 10.0, 15.0, 5.0, 0.0,\n",
    "                0.0, 3.0, 15.0, 2.0, 0.0, 11.0, 8.0, 0.0,\n",
    "                0.0, 4.0, 12.0, 0.0, 0.0, 8.0, 8.0, 0.0,\n",
    "                0.0, 5.0, 8.0, 0.0, 0.0, 9.0, 8.0, 0.0,\n",
    "                0.0, 0.0, 0.0, 0.0, 0.0, 12.0, 4.0, 0.0,\n",
    "                0.0, 0.0, 0.0, 0.0, 0.0, 13.0, 3.0, 0.0,\n",
    "                0.0, 0.0, 0.0, 0.0, 0.0, 6.0, 8.0, 0.0]]\n",
    "}\n",
    "\n",
    "response = requests.post(url, json=data)\n",
    "\n",
    "print(\"Prédiction :\", response.json())\n"
   ]
  }
 ],
 "metadata": {
  "kernelspec": {
   "display_name": ".devops",
   "language": "python",
   "name": "python3"
  },
  "language_info": {
   "codemirror_mode": {
    "name": "ipython",
    "version": 3
   },
   "file_extension": ".py",
   "mimetype": "text/x-python",
   "name": "python",
   "nbconvert_exporter": "python",
   "pygments_lexer": "ipython3",
   "version": "3.10.11"
  }
 },
 "nbformat": 4,
 "nbformat_minor": 5
}
